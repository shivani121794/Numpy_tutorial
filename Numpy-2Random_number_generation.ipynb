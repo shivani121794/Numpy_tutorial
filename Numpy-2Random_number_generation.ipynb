{
 "cells": [
  {
   "cell_type": "code",
   "execution_count": 3,
   "id": "f0659164-5194-4000-ae18-d3716954609a",
   "metadata": {},
   "outputs": [],
   "source": [
    "#Random number generation         #data create karta hai numpy,statistics - sin , cos\n",
    "\n",
    "import numpy as np"
   ]
  },
  {
   "cell_type": "code",
   "execution_count": 33,
   "id": "4246c5a1-56f0-4d2d-acf3-c9d304f30953",
   "metadata": {},
   "outputs": [
    {
     "name": "stdout",
     "output_type": "stream",
     "text": [
      "2\n"
     ]
    }
   ],
   "source": [
    "#generate random integer from 0 to 9\n",
    "random_number = np.random.randint(0, 10)\n",
    "\n",
    "print(random_number)"
   ]
  },
  {
   "cell_type": "code",
   "execution_count": 39,
   "id": "b787d822-a89c-4742-841a-81d77e984dcd",
   "metadata": {},
   "outputs": [
    {
     "name": "stdout",
     "output_type": "stream",
     "text": [
      "7\n"
     ]
    }
   ],
   "source": [
    "from numpy import random  #2nd way - random is module in numpy\n",
    "\n",
    "random_number = random.randint(0, 10)\n",
    "print(random_number)"
   ]
  },
  {
   "cell_type": "code",
   "execution_count": 83,
   "id": "f451c1b3-214d-455a-9158-5c2a0d829439",
   "metadata": {},
   "outputs": [
    {
     "name": "stdout",
     "output_type": "stream",
     "text": [
      "0.7641193470729591\n"
     ]
    }
   ],
   "source": [
    "#generate random float in numpy\n",
    "\n",
    "#float - restriction  -- value generate 0 to 1\n",
    "\n",
    "random_number = np.random.rand()\n",
    "print(random_number)"
   ]
  },
  {
   "cell_type": "code",
   "execution_count": 85,
   "id": "0b894790-af70-42d1-b74d-669e931e6633",
   "metadata": {},
   "outputs": [
    {
     "name": "stdout",
     "output_type": "stream",
     "text": [
      "ID Random Integer Array:\n",
      " [2 6 3 3 5]\n"
     ]
    }
   ],
   "source": [
    "#generate 1D array of random integers between 0 to 9\n",
    "\n",
    "integer_array = np.random.randint(0,10,5)\n",
    "print(\"ID Random Integer Array:\\n\",integer_array)"
   ]
  },
  {
   "cell_type": "code",
   "execution_count": 87,
   "id": "8e0def3c-f3e8-46c1-a71f-a8ab69f8a325",
   "metadata": {},
   "outputs": [
    {
     "name": "stdout",
     "output_type": "stream",
     "text": [
      "\n",
      "1D Random Float Array:\n",
      " [0.15343039 0.45034266 0.37937066 0.60448369 0.00442274]\n"
     ]
    }
   ],
   "source": [
    "#generate 1D array of 5 random numbers between 0 and 1\n",
    "\n",
    "float_array=np.random.rand(5)\n",
    "print(\"\\n1D Random Float Array:\\n\",float_array)"
   ]
  },
  {
   "cell_type": "code",
   "execution_count": 89,
   "id": "ba760ccc-63a2-4f1b-84df-9cabea029c38",
   "metadata": {},
   "outputs": [
    {
     "name": "stdout",
     "output_type": "stream",
     "text": [
      "\n",
      "2D Random Integer Array:\n",
      " [[2 8 6 4]\n",
      " [2 5 8 8]\n",
      " [6 8 7 5]]\n"
     ]
    }
   ],
   "source": [
    "#generate 2D array of shape (3,4) with random integers\n",
    "\n",
    "result = np.random.randint(0,10, (3,4))\n",
    "print(\"\\n2D Random Integer Array:\\n\",result)"
   ]
  },
  {
   "cell_type": "code",
   "execution_count": 91,
   "id": "b4151f21-8731-420f-9958-e04c17c0c2f7",
   "metadata": {},
   "outputs": [
    {
     "name": "stdout",
     "output_type": "stream",
     "text": [
      "3\n"
     ]
    }
   ],
   "source": [
    "#create an array of integers from 1 to 5\n",
    "\n",
    "array1 = np.array([1,20,3,40,5])\n",
    "\n",
    "#choose a random number from array1\n",
    "\n",
    "random_choice = np.random.choice(array1)\n",
    "\n",
    "print(random_choice)"
   ]
  },
  {
   "cell_type": "code",
   "execution_count": 101,
   "id": "177cf0f4-a0d0-46c7-b903-bfa6efa9a82b",
   "metadata": {},
   "outputs": [
    {
     "name": "stdout",
     "output_type": "stream",
     "text": [
      "[2. 2. 2. 2. 2.]\n"
     ]
    }
   ],
   "source": [
    "x= 2*(np.ones(5))\n",
    "print(x)"
   ]
  },
  {
   "cell_type": "code",
   "execution_count": 107,
   "id": "4ae32638-99d4-481a-b08d-0626e0c9a282",
   "metadata": {},
   "outputs": [
    {
     "name": "stdout",
     "output_type": "stream",
     "text": [
      "[[12 23 34]\n",
      " [45 56 67]\n",
      " [67 78 89]]\n",
      "\n",
      "[12 56 89]\n"
     ]
    }
   ],
   "source": [
    "a=np.array([[12,23,34],[45,56,67],[67,78,89]])\n",
    "print(a)\n",
    "print()\n",
    "print(np.diag(a))    #output as diagnal value"
   ]
  },
  {
   "cell_type": "code",
   "execution_count": 109,
   "id": "a696251a-b64f-4aec-a53b-54e57336d827",
   "metadata": {},
   "outputs": [
    {
     "name": "stdout",
     "output_type": "stream",
     "text": [
      "[[1. 0. 0. 0. 0.]\n",
      " [0. 1. 0. 0. 0.]\n",
      " [0. 0. 1. 0. 0.]\n",
      " [0. 0. 0. 1. 0.]\n",
      " [0. 0. 0. 0. 1.]]\n"
     ]
    }
   ],
   "source": [
    "a=np.eye(5) #identity matrix -- diagnally 1 come in matric form\n",
    "print(a)"
   ]
  },
  {
   "cell_type": "code",
   "execution_count": 111,
   "id": "1fe1b49d-d9fe-4693-ab5a-87b71a7aec58",
   "metadata": {},
   "outputs": [
    {
     "name": "stdout",
     "output_type": "stream",
     "text": [
      "[[5. 0. 0. 0. 0.]\n",
      " [0. 5. 0. 0. 0.]\n",
      " [0. 0. 5. 0. 0.]\n",
      " [0. 0. 0. 5. 0.]\n",
      " [0. 0. 0. 0. 5.]]\n"
     ]
    }
   ],
   "source": [
    "a=5*np.eye(5)\n",
    "print(a)"
   ]
  },
  {
   "cell_type": "code",
   "execution_count": 115,
   "id": "6ebb3f13-9d0e-4f3f-837e-dd8a6cdc9711",
   "metadata": {},
   "outputs": [
    {
     "name": "stdout",
     "output_type": "stream",
     "text": [
      "[[4 0 0 0 0 0]\n",
      " [0 5 0 0 0 0]\n",
      " [0 0 6 0 0 0]\n",
      " [0 0 0 7 0 0]\n",
      " [0 0 0 0 8 0]\n",
      " [0 0 0 0 0 9]]\n"
     ]
    }
   ],
   "source": [
    "x=np.diag([4,5,6,7,8,9])     #diagnal matrix\n",
    "print(x)"
   ]
  },
  {
   "cell_type": "code",
   "execution_count": 117,
   "id": "2c7c0f6b-efa5-46fa-9560-1b1eef786793",
   "metadata": {},
   "outputs": [
    {
     "name": "stdout",
     "output_type": "stream",
     "text": [
      "[16 15  5  9  4  8 14  6  9 15]\n"
     ]
    }
   ],
   "source": [
    "a = np.random.randint(1,20,10)\n",
    "print(a)"
   ]
  },
  {
   "cell_type": "code",
   "execution_count": 119,
   "id": "9a6fa5bd-5e28-448b-9b24-438b24d8c392",
   "metadata": {},
   "outputs": [
    {
     "name": "stdout",
     "output_type": "stream",
     "text": [
      "[0.06612581 0.09274737 0.07953938 0.8974895  0.03917542]\n"
     ]
    }
   ],
   "source": [
    "x=np.random.rand(5)\n",
    "print(x)"
   ]
  },
  {
   "cell_type": "code",
   "execution_count": 121,
   "id": "9f7ef28e-6f55-441b-8101-bfdf3dd1e829",
   "metadata": {},
   "outputs": [
    {
     "name": "stdout",
     "output_type": "stream",
     "text": [
      "[[0.90562525 0.72427741 0.50696154 0.53854409]\n",
      " [0.4228218  0.40733845 0.83859686 0.90434672]\n",
      " [0.27360827 0.91025197 0.70975717 0.93657417]\n",
      " [0.27006824 0.50783359 0.89956617 0.6817812 ]]\n"
     ]
    }
   ],
   "source": [
    "y=np.random.rand(4,4)\n",
    "print(y)"
   ]
  },
  {
   "cell_type": "code",
   "execution_count": 131,
   "id": "0623d358-a171-41ae-a838-e88a6788ca6c",
   "metadata": {},
   "outputs": [
    {
     "name": "stdout",
     "output_type": "stream",
     "text": [
      "[ 0.49618859 -0.27371194 -0.18368144 -0.24483794 -0.54560851]\n"
     ]
    }
   ],
   "source": [
    "a= np.random.randn(5)\n",
    "print(a)"
   ]
  },
  {
   "cell_type": "code",
   "execution_count": 133,
   "id": "a4257ad5-1f8b-4703-bc59-8eb943336ae7",
   "metadata": {},
   "outputs": [
    {
     "name": "stdout",
     "output_type": "stream",
     "text": [
      "[[ 1  2  3  9 10]\n",
      " [12 34  4  5  6]\n",
      " [65 76  7  8  9]\n",
      " [12 34  4  5  6]\n",
      " [65 76  7  8  9]]\n"
     ]
    }
   ],
   "source": [
    "#Accessing through SLICING\n",
    "\n",
    "x = np.array([[1,2,3,9,10], [12,34,4,5,6], [65,76,7,8,9], [12,34,4,5,6], [65,76,7,8,9]])\n",
    "print(x)"
   ]
  },
  {
   "cell_type": "code",
   "execution_count": 135,
   "id": "aa0ff500-6dbb-4272-b1b3-9aa62d816975",
   "metadata": {},
   "outputs": [
    {
     "data": {
      "text/plain": [
       "array([[4, 5],\n",
       "       [7, 8]])"
      ]
     },
     "execution_count": 135,
     "metadata": {},
     "output_type": "execute_result"
    }
   ],
   "source": [
    "x[1:3,2:4]     # :: row and column"
   ]
  },
  {
   "cell_type": "code",
   "execution_count": 137,
   "id": "9ba16c05-e15d-4007-9c28-735ffeadd99a",
   "metadata": {},
   "outputs": [
    {
     "name": "stdout",
     "output_type": "stream",
     "text": [
      "[[4 5]\n",
      " [7 8]]\n"
     ]
    }
   ],
   "source": [
    "print(x[1:3,2:4])"
   ]
  },
  {
   "cell_type": "code",
   "execution_count": 145,
   "id": "039b7937-498a-43b1-bc14-d4d642c5ccd8",
   "metadata": {},
   "outputs": [
    {
     "name": "stdout",
     "output_type": "stream",
     "text": [
      "[[4 5]\n",
      " [7 8]\n",
      " [4 5]]\n"
     ]
    }
   ],
   "source": [
    "print(x[1:4,2:4])"
   ]
  },
  {
   "cell_type": "code",
   "execution_count": 147,
   "id": "a4293aa8-59d6-4229-bead-7c2a7aa17efe",
   "metadata": {},
   "outputs": [
    {
     "name": "stdout",
     "output_type": "stream",
     "text": [
      "[3 5 7]\n",
      "\n",
      "[5 7 9]\n",
      "\n",
      "[3 5 7 5 7 9]\n"
     ]
    }
   ],
   "source": [
    "#numpy.hstack() function\n",
    "\n",
    "#horizontically stack numpy array using numpy.hstack()\n",
    "\n",
    "x = np.array((3,5,7))\n",
    "print(x)\n",
    "print()\n",
    "y = np.array((5,7,9))\n",
    "print(y)\n",
    "print()\n",
    "print(np.hstack((x,y)))"
   ]
  },
  {
   "cell_type": "code",
   "execution_count": 149,
   "id": "9ba15ab0-d749-4dd0-8fe8-8f22f0da40e7",
   "metadata": {},
   "outputs": [
    {
     "name": "stdout",
     "output_type": "stream",
     "text": [
      "[[3]\n",
      " [5]\n",
      " [7]]\n",
      "\n",
      "[[5]\n",
      " [7]\n",
      " [9]]\n",
      "\n",
      "[[3 5]\n",
      " [5 7]\n",
      " [7 9]]\n"
     ]
    }
   ],
   "source": [
    "x = np.array([[3], [5], [7]])\n",
    "print(x)\n",
    "print()\n",
    "y = np.array([[5], [7], [9]])\n",
    "print(y)\n",
    "print()\n",
    "print(np.hstack((x,y)))"
   ]
  },
  {
   "cell_type": "code",
   "execution_count": 151,
   "id": "0d61bbed-98a4-4b3b-a6aa-202eebe2ce2b",
   "metadata": {},
   "outputs": [
    {
     "name": "stdout",
     "output_type": "stream",
     "text": [
      "[3 5 7]\n",
      "\n",
      "[5 7 9]\n",
      "\n",
      "[[3 5 7]\n",
      " [5 7 9]]\n"
     ]
    }
   ],
   "source": [
    "#numpy.vstack() function\n",
    "\n",
    "#vertically stack numpy array using numpy.hstack()\n",
    "\n",
    "x = np.array((3,5,7))\n",
    "print(x)\n",
    "print()\n",
    "y = np.array((5,7,9))\n",
    "print(y)\n",
    "print()\n",
    "print(np.vstack((x,y)))"
   ]
  },
  {
   "cell_type": "code",
   "execution_count": 153,
   "id": "356493f5-e98e-456b-aaff-5bf24a0e4ba7",
   "metadata": {},
   "outputs": [
    {
     "name": "stdout",
     "output_type": "stream",
     "text": [
      "[[3]\n",
      " [5]\n",
      " [7]]\n",
      "\n",
      "[[5]\n",
      " [7]\n",
      " [9]]\n",
      "\n",
      "[[3]\n",
      " [5]\n",
      " [7]\n",
      " [5]\n",
      " [7]\n",
      " [9]]\n"
     ]
    }
   ],
   "source": [
    "x = np.array([[3], [5], [7]])\n",
    "print(x)\n",
    "print()\n",
    "y = np.array([[5], [7], [9]])\n",
    "print(y)\n",
    "print()\n",
    "print(np.vstack((x,y)))"
   ]
  },
  {
   "cell_type": "code",
   "execution_count": 155,
   "id": "83b0e4cb-8f0e-466d-a956-a126cea1b25c",
   "metadata": {},
   "outputs": [
    {
     "data": {
      "text/plain": [
       "[1, '2', 3, 4, 5]"
      ]
     },
     "execution_count": 155,
     "metadata": {},
     "output_type": "execute_result"
    }
   ],
   "source": [
    "#Shallow and Deep Copy\n",
    "\n",
    "l=[1,\"2\",3,4,5]\n",
    "l1=l\n",
    "l1"
   ]
  },
  {
   "cell_type": "code",
   "execution_count": 157,
   "id": "f9da7a94-7869-46ad-b9b1-e256d7f91f9f",
   "metadata": {},
   "outputs": [
    {
     "data": {
      "text/plain": [
       "[1, '2', 100, 4, 5]"
      ]
     },
     "execution_count": 157,
     "metadata": {},
     "output_type": "execute_result"
    }
   ],
   "source": [
    "l1[2]=100\n",
    "l1"
   ]
  },
  {
   "cell_type": "code",
   "execution_count": 159,
   "id": "00d15af8-f3b5-4ac5-bca6-602df72a7c1a",
   "metadata": {},
   "outputs": [
    {
     "data": {
      "text/plain": [
       "[1, '2', 100, 4, 5]"
      ]
     },
     "execution_count": 159,
     "metadata": {},
     "output_type": "execute_result"
    }
   ],
   "source": [
    "l"
   ]
  },
  {
   "cell_type": "code",
   "execution_count": 161,
   "id": "335b257f-6d64-427e-98c8-312a221941c5",
   "metadata": {},
   "outputs": [
    {
     "data": {
      "text/plain": [
       "[1, 2, 3, 4, 5]"
      ]
     },
     "execution_count": 161,
     "metadata": {},
     "output_type": "execute_result"
    }
   ],
   "source": [
    "#copy method\n",
    "l=[1,2,3,4,5]\n",
    "l"
   ]
  },
  {
   "cell_type": "code",
   "execution_count": 165,
   "id": "8bc2e5a8-402a-4ac8-8cc7-0a1bf092dfc7",
   "metadata": {},
   "outputs": [
    {
     "data": {
      "text/plain": [
       "[1, 2, 3, 4, 5]"
      ]
     },
     "execution_count": 165,
     "metadata": {},
     "output_type": "execute_result"
    }
   ],
   "source": [
    "l2=l.copy()\n",
    "l2"
   ]
  },
  {
   "cell_type": "code",
   "execution_count": 167,
   "id": "fd569782-8147-4591-8b2e-416e7b22834e",
   "metadata": {},
   "outputs": [
    {
     "data": {
      "text/plain": [
       "[1, 100, 3, 4, 5]"
      ]
     },
     "execution_count": 167,
     "metadata": {},
     "output_type": "execute_result"
    }
   ],
   "source": [
    "l2[1]=100\n",
    "l2"
   ]
  },
  {
   "cell_type": "code",
   "execution_count": 169,
   "id": "017b982b-d6b3-4519-800f-7aad56fc2911",
   "metadata": {},
   "outputs": [
    {
     "data": {
      "text/plain": [
       "[1, 2, 3, 4, 5]"
      ]
     },
     "execution_count": 169,
     "metadata": {},
     "output_type": "execute_result"
    }
   ],
   "source": [
    "l"
   ]
  },
  {
   "cell_type": "code",
   "execution_count": 171,
   "id": "79e307f5-c07e-4d25-84c5-12cb25d56b9f",
   "metadata": {},
   "outputs": [
    {
     "data": {
      "text/plain": [
       "[[1, 2, 3], [4, 56]]"
      ]
     },
     "execution_count": 171,
     "metadata": {},
     "output_type": "execute_result"
    }
   ],
   "source": [
    "#Nested list        -- copy method doesnt work in nested list (because id address are different)\n",
    " \n",
    "l=[[1,2,3],[4,56]]\n",
    "l"
   ]
  },
  {
   "cell_type": "code",
   "execution_count": 173,
   "id": "8e62dc1b-feb2-409d-8bdf-d85f4df3322c",
   "metadata": {},
   "outputs": [
    {
     "data": {
      "text/plain": [
       "[[1, 2, 3], [4, 56]]"
      ]
     },
     "execution_count": 173,
     "metadata": {},
     "output_type": "execute_result"
    }
   ],
   "source": [
    "l2=l.copy()\n",
    "l2"
   ]
  },
  {
   "cell_type": "code",
   "execution_count": 179,
   "id": "78b4a404-62c1-45fb-818e-d1b1b97b0c0f",
   "metadata": {},
   "outputs": [
    {
     "data": {
      "text/plain": [
       "[[1, 2, 100], [4, 56]]"
      ]
     },
     "execution_count": 179,
     "metadata": {},
     "output_type": "execute_result"
    }
   ],
   "source": [
    "l2[0][2]=100\n",
    "l2"
   ]
  },
  {
   "cell_type": "code",
   "execution_count": 181,
   "id": "278fe3e9-251f-4d2f-85b5-89bd0da76196",
   "metadata": {},
   "outputs": [
    {
     "data": {
      "text/plain": [
       "[[1, 2, 100], [4, 56]]"
      ]
     },
     "execution_count": 181,
     "metadata": {},
     "output_type": "execute_result"
    }
   ],
   "source": [
    "l"
   ]
  },
  {
   "cell_type": "code",
   "execution_count": 191,
   "id": "ee633503-4df3-404c-b06f-a3bb8e4ca170",
   "metadata": {},
   "outputs": [],
   "source": [
    "#Deep copy\n",
    "\n",
    "import copy"
   ]
  },
  {
   "cell_type": "code",
   "execution_count": 193,
   "id": "9773690a-004b-4c4c-aa60-bbf7571bce7e",
   "metadata": {},
   "outputs": [],
   "source": [
    "l=[[1,2,3],[4,56]]"
   ]
  },
  {
   "cell_type": "code",
   "execution_count": 197,
   "id": "9ab3153c-04f0-4536-a3bd-dec8889762cd",
   "metadata": {},
   "outputs": [
    {
     "data": {
      "text/plain": [
       "[[1, 2, 3], [4, 56]]"
      ]
     },
     "execution_count": 197,
     "metadata": {},
     "output_type": "execute_result"
    }
   ],
   "source": [
    "l2=copy.deepcopy(l)\n",
    "l2"
   ]
  },
  {
   "cell_type": "code",
   "execution_count": 199,
   "id": "b934c477-5e3c-46cf-92c8-72c31fcb97e9",
   "metadata": {},
   "outputs": [],
   "source": [
    "l2[0][2]=100"
   ]
  },
  {
   "cell_type": "code",
   "execution_count": 201,
   "id": "8048e51a-7be9-48cb-be4d-997e68bc7a62",
   "metadata": {},
   "outputs": [
    {
     "data": {
      "text/plain": [
       "[[1, 2, 100], [4, 56]]"
      ]
     },
     "execution_count": 201,
     "metadata": {},
     "output_type": "execute_result"
    }
   ],
   "source": [
    "l2"
   ]
  },
  {
   "cell_type": "code",
   "execution_count": 203,
   "id": "c0634ffe-27c4-44e4-ab4d-c5987cd5f389",
   "metadata": {},
   "outputs": [
    {
     "data": {
      "text/plain": [
       "[[1, 2, 3], [4, 56]]"
      ]
     },
     "execution_count": 203,
     "metadata": {},
     "output_type": "execute_result"
    }
   ],
   "source": [
    "l"
   ]
  },
  {
   "cell_type": "code",
   "execution_count": 205,
   "id": "7f2ee3f2-718e-4787-91bb-0d74abbc3cb5",
   "metadata": {},
   "outputs": [
    {
     "name": "stdout",
     "output_type": "stream",
     "text": [
      "1500868636608\n"
     ]
    }
   ],
   "source": [
    "print(id(l2))"
   ]
  },
  {
   "cell_type": "code",
   "execution_count": 207,
   "id": "e50bea67-a145-4293-8a8a-f9bf77b85f1f",
   "metadata": {},
   "outputs": [
    {
     "name": "stdout",
     "output_type": "stream",
     "text": [
      "1500868687488\n"
     ]
    }
   ],
   "source": [
    "print(id(l))"
   ]
  },
  {
   "cell_type": "code",
   "execution_count": 209,
   "id": "0a333326-74b5-487f-894e-2b05fd270c52",
   "metadata": {},
   "outputs": [
    {
     "name": "stdout",
     "output_type": "stream",
     "text": [
      "[[3 9 6]\n",
      " [2 7 6]\n",
      " [9 2 5]]\n"
     ]
    }
   ],
   "source": [
    "a = np.random.randint(1,10,(3,3))\n",
    "print(a)"
   ]
  },
  {
   "cell_type": "code",
   "execution_count": 211,
   "id": "f1951906-c2e4-4bdf-ae52-ce87d5c18e27",
   "metadata": {},
   "outputs": [
    {
     "data": {
      "text/plain": [
       "array([[3, 3, 2],\n",
       "       [6, 9, 4],\n",
       "       [5, 5, 8]])"
      ]
     },
     "execution_count": 211,
     "metadata": {},
     "output_type": "execute_result"
    }
   ],
   "source": [
    "a = np.array([[3,3,2],[6,9,4],[5,5,8]])\n",
    "a"
   ]
  },
  {
   "cell_type": "code",
   "execution_count": 213,
   "id": "1030dc78-4297-41ba-8a8e-c9cc586927c0",
   "metadata": {},
   "outputs": [
    {
     "data": {
      "text/plain": [
       "(3, 3)"
      ]
     },
     "execution_count": 213,
     "metadata": {},
     "output_type": "execute_result"
    }
   ],
   "source": [
    "a.shape"
   ]
  },
  {
   "cell_type": "code",
   "execution_count": 215,
   "id": "6d954f98-85f7-4486-bf37-fe1a16f4242d",
   "metadata": {},
   "outputs": [
    {
     "data": {
      "text/plain": [
       "45"
      ]
     },
     "execution_count": 215,
     "metadata": {},
     "output_type": "execute_result"
    }
   ],
   "source": [
    "np.sum(a)"
   ]
  },
  {
   "cell_type": "code",
   "execution_count": 217,
   "id": "2cdb4a42-5bfd-4a1e-ae1c-a153be7a8f2f",
   "metadata": {},
   "outputs": [
    {
     "data": {
      "text/plain": [
       "array([14, 17, 14])"
      ]
     },
     "execution_count": 217,
     "metadata": {},
     "output_type": "execute_result"
    }
   ],
   "source": [
    "np.sum(a,axis=0) #columns -- vertical"
   ]
  },
  {
   "cell_type": "code",
   "execution_count": 219,
   "id": "022181bb-c8f6-4a66-8410-23db66a91a7a",
   "metadata": {},
   "outputs": [
    {
     "data": {
      "text/plain": [
       "array([ 8, 19, 18])"
      ]
     },
     "execution_count": 219,
     "metadata": {},
     "output_type": "execute_result"
    }
   ],
   "source": [
    "np.sum(a,axis=1) #rows -- horizontal"
   ]
  },
  {
   "cell_type": "code",
   "execution_count": 221,
   "id": "b9d05320-3b03-4587-bb97-5dbb2b352262",
   "metadata": {},
   "outputs": [
    {
     "data": {
      "text/plain": [
       "2"
      ]
     },
     "execution_count": 221,
     "metadata": {},
     "output_type": "execute_result"
    }
   ],
   "source": [
    "np.min(a)"
   ]
  },
  {
   "cell_type": "code",
   "execution_count": 223,
   "id": "d086236d-f12b-4913-97c2-99d4ef863397",
   "metadata": {},
   "outputs": [
    {
     "data": {
      "text/plain": [
       "9"
      ]
     },
     "execution_count": 223,
     "metadata": {},
     "output_type": "execute_result"
    }
   ],
   "source": [
    "np.max(a)"
   ]
  },
  {
   "cell_type": "code",
   "execution_count": 225,
   "id": "c345917e-1cb7-4f2f-8bd6-5342a7895f51",
   "metadata": {},
   "outputs": [
    {
     "data": {
      "text/plain": [
       "array([2, 4, 5])"
      ]
     },
     "execution_count": 225,
     "metadata": {},
     "output_type": "execute_result"
    }
   ],
   "source": [
    "np.min(a,axis=1) #horizontal"
   ]
  },
  {
   "cell_type": "code",
   "execution_count": 227,
   "id": "bc780fa8-ee66-4830-9f07-d6d66a012de8",
   "metadata": {},
   "outputs": [
    {
     "data": {
      "text/plain": [
       "array([3, 9, 8])"
      ]
     },
     "execution_count": 227,
     "metadata": {},
     "output_type": "execute_result"
    }
   ],
   "source": [
    "np.max(a,axis=1) #horizontal"
   ]
  },
  {
   "cell_type": "code",
   "execution_count": 229,
   "id": "4963ec77-1cbe-45b6-8f3d-7af29eb14b3e",
   "metadata": {},
   "outputs": [
    {
     "data": {
      "text/plain": [
       "array([3, 3, 2])"
      ]
     },
     "execution_count": 229,
     "metadata": {},
     "output_type": "execute_result"
    }
   ],
   "source": [
    "np.min(a,axis=0) #vertical"
   ]
  },
  {
   "cell_type": "code",
   "execution_count": 231,
   "id": "179f354c-c986-4a77-ac6c-eeb02da8cb43",
   "metadata": {},
   "outputs": [
    {
     "data": {
      "text/plain": [
       "array([6, 9, 8])"
      ]
     },
     "execution_count": 231,
     "metadata": {},
     "output_type": "execute_result"
    }
   ],
   "source": [
    "np.max(a,axis=0) #vertical"
   ]
  }
 ],
 "metadata": {
  "kernelspec": {
   "display_name": "Python 3 (ipykernel)",
   "language": "python",
   "name": "python3"
  },
  "language_info": {
   "codemirror_mode": {
    "name": "ipython",
    "version": 3
   },
   "file_extension": ".py",
   "mimetype": "text/x-python",
   "name": "python",
   "nbconvert_exporter": "python",
   "pygments_lexer": "ipython3",
   "version": "3.12.4"
  }
 },
 "nbformat": 4,
 "nbformat_minor": 5
}
